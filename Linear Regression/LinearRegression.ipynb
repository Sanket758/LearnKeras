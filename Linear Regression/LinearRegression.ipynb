{
 "cells": [
  {
   "cell_type": "markdown",
   "metadata": {},
   "source": [
    "# Using linear regression to predict the Iowa housing prices\n",
    "## We are gonna create a machine learning model to predict the housing prices based on the squarefeet value for the house."
   ]
  },
  {
   "cell_type": "markdown",
   "metadata": {},
   "source": [
    "Lets import the necessary libraries"
   ]
  },
  {
   "cell_type": "code",
   "execution_count": 3,
   "metadata": {},
   "outputs": [],
   "source": [
    "import numpy as np\n",
    "import matplotlib.pyplot as plt\n",
    "import keras\n",
    "import pandas as pd"
   ]
  },
  {
   "cell_type": "markdown",
   "metadata": {},
   "source": [
    "### Getting our dataset ready. we will use pandas read_csv() function to load our dataset"
   ]
  },
  {
   "cell_type": "code",
   "execution_count": 7,
   "metadata": {},
   "outputs": [],
   "source": [
    "df = pd.read_csv('IowaHousingPrices.csv')"
   ]
  },
  {
   "cell_type": "code",
   "execution_count": 18,
   "metadata": {},
   "outputs": [
    {
     "data": {
      "text/html": [
       "<div>\n",
       "<style scoped>\n",
       "    .dataframe tbody tr th:only-of-type {\n",
       "        vertical-align: middle;\n",
       "    }\n",
       "\n",
       "    .dataframe tbody tr th {\n",
       "        vertical-align: top;\n",
       "    }\n",
       "\n",
       "    .dataframe thead th {\n",
       "        text-align: right;\n",
       "    }\n",
       "</style>\n",
       "<table border=\"1\" class=\"dataframe\">\n",
       "  <thead>\n",
       "    <tr style=\"text-align: right;\">\n",
       "      <th></th>\n",
       "      <th>SquareFeet</th>\n",
       "      <th>SalePrice</th>\n",
       "    </tr>\n",
       "  </thead>\n",
       "  <tbody>\n",
       "    <tr>\n",
       "      <th>0</th>\n",
       "      <td>1710</td>\n",
       "      <td>208500</td>\n",
       "    </tr>\n",
       "    <tr>\n",
       "      <th>1</th>\n",
       "      <td>1262</td>\n",
       "      <td>181500</td>\n",
       "    </tr>\n",
       "    <tr>\n",
       "      <th>2</th>\n",
       "      <td>1786</td>\n",
       "      <td>223500</td>\n",
       "    </tr>\n",
       "    <tr>\n",
       "      <th>3</th>\n",
       "      <td>1717</td>\n",
       "      <td>140000</td>\n",
       "    </tr>\n",
       "    <tr>\n",
       "      <th>4</th>\n",
       "      <td>2198</td>\n",
       "      <td>250000</td>\n",
       "    </tr>\n",
       "  </tbody>\n",
       "</table>\n",
       "</div>"
      ],
      "text/plain": [
       "   SquareFeet  SalePrice\n",
       "0        1710     208500\n",
       "1        1262     181500\n",
       "2        1786     223500\n",
       "3        1717     140000\n",
       "4        2198     250000"
      ]
     },
     "execution_count": 18,
     "metadata": {},
     "output_type": "execute_result"
    }
   ],
   "source": [
    "# get a glance of our dataset\n",
    "df.head()"
   ]
  },
  {
   "cell_type": "code",
   "execution_count": 19,
   "metadata": {},
   "outputs": [],
   "source": [
    "# we will create our own variables to work on and put all the values in it\n",
    "squareFeet = df[['SquareFeet']].values\n",
    "salePrice = df[['SalePrice']].values"
   ]
  },
  {
   "cell_type": "markdown",
   "metadata": {},
   "source": [
    "# Creating a Model"
   ]
  },
  {
   "cell_type": "code",
   "execution_count": 20,
   "metadata": {},
   "outputs": [],
   "source": [
    "# sequential model is the simplest model in keras\n",
    "model = keras.Sequential() \n",
    "model.add(keras.layers.Dense(1,input_shape=(1,)))\n",
    "#sequential model is layers structure, here we are creating a model with only one layer\n",
    "#and the shape of our input is also 1 becuase we are only training this on squarefeet \n",
    "#if we had more parameters then this number will change"
   ]
  },
  {
   "cell_type": "markdown",
   "metadata": {},
   "source": [
    "# Compile the model"
   ]
  },
  {
   "cell_type": "code",
   "execution_count": 21,
   "metadata": {},
   "outputs": [],
   "source": [
    "model.compile(keras.optimizers.Adam(lr=0.5), 'mean_squared_error') #lr is learning rate"
   ]
  },
  {
   "cell_type": "markdown",
   "metadata": {},
   "source": [
    "# Fit the model"
   ]
  },
  {
   "cell_type": "code",
   "execution_count": 22,
   "metadata": {},
   "outputs": [
    {
     "name": "stdout",
     "output_type": "stream",
     "text": [
      "Epoch 1/100\n",
      "1460/1460 [==============================] - 0s 254us/step - loss: 22799111795.7260\n",
      "Epoch 2/100\n",
      "1460/1460 [==============================] - 0s 149us/step - loss: 6864417354.5205\n",
      "Epoch 3/100\n",
      "1460/1460 [==============================] - 0s 165us/step - loss: 3586514642.1918\n",
      "Epoch 4/100\n",
      "1460/1460 [==============================] - 0s 210us/step - loss: 3207644715.1781\n",
      "Epoch 5/100\n",
      "1460/1460 [==============================] - 0s 166us/step - loss: 3179398137.8630\n",
      "Epoch 6/100\n",
      "1460/1460 [==============================] - 0s 176us/step - loss: 3183292490.9589\n",
      "Epoch 7/100\n",
      "1460/1460 [==============================] - 0s 173us/step - loss: 3182489254.5753\n",
      "Epoch 8/100\n",
      "1460/1460 [==============================] - 0s 169us/step - loss: 3184745746.6301\n",
      "Epoch 9/100\n",
      "1460/1460 [==============================] - 0s 217us/step - loss: 3184296924.4932\n",
      "Epoch 10/100\n",
      "1460/1460 [==============================] - 0s 135us/step - loss: 3186332653.4795\n",
      "Epoch 11/100\n",
      "1460/1460 [==============================] - 0s 190us/step - loss: 3182033902.9041\n",
      "Epoch 12/100\n",
      "1460/1460 [==============================] - 0s 321us/step - loss: 3195386915.5068\n",
      "Epoch 13/100\n",
      "1460/1460 [==============================] - 0s 273us/step - loss: 3178413309.8082\n",
      "Epoch 14/100\n",
      "1460/1460 [==============================] - 0s 180us/step - loss: 3188908540.6027\n",
      "Epoch 15/100\n",
      "1460/1460 [==============================] - 0s 182us/step - loss: 3181808197.2603\n",
      "Epoch 16/100\n",
      "1460/1460 [==============================] - 0s 166us/step - loss: 3190709723.8356\n",
      "Epoch 17/100\n",
      "1460/1460 [==============================] - 0s 136us/step - loss: 3186220010.5205\n",
      "Epoch 18/100\n",
      "1460/1460 [==============================] - 0s 188us/step - loss: 3189969352.9863\n",
      "Epoch 19/100\n",
      "1460/1460 [==============================] - 0s 134us/step - loss: 3190306521.2055\n",
      "Epoch 20/100\n",
      "1460/1460 [==============================] - 0s 176us/step - loss: 3188145279.1233\n",
      "Epoch 21/100\n",
      "1460/1460 [==============================] - 0s 167us/step - loss: 3202028556.7123\n",
      "Epoch 22/100\n",
      "1460/1460 [==============================] - 0s 193us/step - loss: 3189287774.3562\n",
      "Epoch 23/100\n",
      "1460/1460 [==============================] - 0s 169us/step - loss: 3193341352.5479\n",
      "Epoch 24/100\n",
      "1460/1460 [==============================] - 0s 162us/step - loss: 3194586729.8630\n",
      "Epoch 25/100\n",
      "1460/1460 [==============================] - 0s 287us/step - loss: 3188888334.4658\n",
      "Epoch 26/100\n",
      "1460/1460 [==============================] - 0s 182us/step - loss: 3179872631.6712\n",
      "Epoch 27/100\n",
      "1460/1460 [==============================] - 0s 169us/step - loss: 3195439815.8904\n",
      "Epoch 28/100\n",
      "1460/1460 [==============================] - 0s 134us/step - loss: 3190258401.7534\n",
      "Epoch 29/100\n",
      "1460/1460 [==============================] - 0s 164us/step - loss: 3204537904.0000\n",
      "Epoch 30/100\n",
      "1460/1460 [==============================] - 0s 157us/step - loss: 3189145632.6575\n",
      "Epoch 31/100\n",
      "1460/1460 [==============================] - 0s 158us/step - loss: 3188502314.9589\n",
      "Epoch 32/100\n",
      "1460/1460 [==============================] - 0s 166us/step - loss: 3188779253.3151\n",
      "Epoch 33/100\n",
      "1460/1460 [==============================] - 0s 156us/step - loss: 3207622272.6575\n",
      "Epoch 34/100\n",
      "1460/1460 [==============================] - 0s 173us/step - loss: 3190523173.0411\n",
      "Epoch 35/100\n",
      "1460/1460 [==============================] - 0s 153us/step - loss: 3188816455.4521\n",
      "Epoch 36/100\n",
      "1460/1460 [==============================] - 0s 160us/step - loss: 3199571995.1781\n",
      "Epoch 37/100\n",
      "1460/1460 [==============================] - 0s 157us/step - loss: 3188084507.3973\n",
      "Epoch 38/100\n",
      "1460/1460 [==============================] - 0s 175us/step - loss: 3206947079.0137\n",
      "Epoch 39/100\n",
      "1460/1460 [==============================] - 0s 164us/step - loss: 3185061824.2192\n",
      "Epoch 40/100\n",
      "1460/1460 [==============================] - 0s 170us/step - loss: 3185610187.1781\n",
      "Epoch 41/100\n",
      "1460/1460 [==============================] - 0s 282us/step - loss: 3200261148.9315\n",
      "Epoch 42/100\n",
      "1460/1460 [==============================] - 0s 311us/step - loss: 3183613676.2740\n",
      "Epoch 43/100\n",
      "1460/1460 [==============================] - 0s 187us/step - loss: 3202299614.0274\n",
      "Epoch 44/100\n",
      "1460/1460 [==============================] - 0s 158us/step - loss: 3189369632.1096\n",
      "Epoch 45/100\n",
      "1460/1460 [==============================] - 0s 174us/step - loss: 3191109827.7260\n",
      "Epoch 46/100\n",
      "1460/1460 [==============================] - 0s 174us/step - loss: 3184655832.3288\n",
      "Epoch 47/100\n",
      "1460/1460 [==============================] - 0s 161us/step - loss: 3189203612.7123\n",
      "Epoch 48/100\n",
      "1460/1460 [==============================] - 0s 163us/step - loss: 3188642864.2192\n",
      "Epoch 49/100\n",
      "1460/1460 [==============================] - 0s 167us/step - loss: 3196260332.0548\n",
      "Epoch 50/100\n",
      "1460/1460 [==============================] - 0s 170us/step - loss: 3186704533.4795\n",
      "Epoch 51/100\n",
      "1460/1460 [==============================] - 0s 172us/step - loss: 3195536060.4932\n",
      "Epoch 52/100\n",
      "1460/1460 [==============================] - 0s 171us/step - loss: 3191452837.6986\n",
      "Epoch 53/100\n",
      "1460/1460 [==============================] - 0s 177us/step - loss: 3186216047.3425\n",
      "Epoch 54/100\n",
      "1460/1460 [==============================] - 0s 159us/step - loss: 3182565510.7945\n",
      "Epoch 55/100\n",
      "1460/1460 [==============================] - 0s 137us/step - loss: 3198472993.0959\n",
      "Epoch 56/100\n",
      "1460/1460 [==============================] - 0s 153us/step - loss: 3186923986.63010s - loss: 380185586\n",
      "Epoch 57/100\n",
      "1460/1460 [==============================] - 0s 233us/step - loss: 3184715088.8767\n",
      "Epoch 58/100\n",
      "1460/1460 [==============================] - 0s 270us/step - loss: 3187612919.2329\n",
      "Epoch 59/100\n",
      "1460/1460 [==============================] - 0s 164us/step - loss: 3185908763.8356\n",
      "Epoch 60/100\n",
      "1460/1460 [==============================] - 0s 188us/step - loss: 3188250937.2055\n",
      "Epoch 61/100\n",
      "1460/1460 [==============================] - 0s 166us/step - loss: 3198301546.5205\n",
      "Epoch 62/100\n",
      "1460/1460 [==============================] - 0s 157us/step - loss: 3195937778.5205\n",
      "Epoch 63/100\n",
      "1460/1460 [==============================] - 0s 188us/step - loss: 3193440423.6712\n",
      "Epoch 64/100\n",
      "1460/1460 [==============================] - 0s 172us/step - loss: 3185801604.7123\n",
      "Epoch 65/100\n",
      "1460/1460 [==============================] - 0s 207us/step - loss: 3181140437.2603\n",
      "Epoch 66/100\n",
      "1460/1460 [==============================] - 0s 202us/step - loss: 3206701725.5890\n",
      "Epoch 67/100\n",
      "1460/1460 [==============================] - 0s 184us/step - loss: 3190956489.2055\n",
      "Epoch 68/100\n",
      "1460/1460 [==============================] - 0s 185us/step - loss: 3196969515.3973\n",
      "Epoch 69/100\n",
      "1460/1460 [==============================] - 0s 169us/step - loss: 3188276423.0137\n",
      "Epoch 70/100\n",
      "1460/1460 [==============================] - 0s 205us/step - loss: 3185275809.5342\n",
      "Epoch 71/100\n",
      "1460/1460 [==============================] - 0s 214us/step - loss: 3201913792.8767\n",
      "Epoch 72/100\n",
      "1460/1460 [==============================] - 0s 150us/step - loss: 3191895294.0274\n",
      "Epoch 73/100\n",
      "1460/1460 [==============================] - 0s 172us/step - loss: 3202563279.5616\n",
      "Epoch 74/100\n",
      "1460/1460 [==============================] - 0s 175us/step - loss: 3189111163.1781\n",
      "Epoch 75/100\n",
      "1460/1460 [==============================] - 0s 172us/step - loss: 3189201932.0548\n",
      "Epoch 76/100\n",
      "1460/1460 [==============================] - 0s 173us/step - loss: 3187405788.4932\n",
      "Epoch 77/100\n",
      "1460/1460 [==============================] - 0s 169us/step - loss: 3187685746.1918\n",
      "Epoch 78/100\n",
      "1460/1460 [==============================] - 0s 195us/step - loss: 3187738030.4658\n",
      "Epoch 79/100\n",
      "1460/1460 [==============================] - 0s 224us/step - loss: 3189195053.1507\n",
      "Epoch 80/100\n",
      "1460/1460 [==============================] - 0s 183us/step - loss: 3181738886.5753\n",
      "Epoch 81/100\n",
      "1460/1460 [==============================] - 0s 166us/step - loss: 3188974572.7123\n",
      "Epoch 82/100\n",
      "1460/1460 [==============================] - 0s 186us/step - loss: 3187427647.5616\n",
      "Epoch 83/100\n",
      "1460/1460 [==============================] - 0s 182us/step - loss: 3188734854.7945\n",
      "Epoch 84/100\n",
      "1460/1460 [==============================] - 0s 141us/step - loss: 3190797481.8630\n",
      "Epoch 85/100\n",
      "1460/1460 [==============================] - 0s 140us/step - loss: 3186568687.1233\n",
      "Epoch 86/100\n",
      "1460/1460 [==============================] - 0s 138us/step - loss: 3184296065.5342\n",
      "Epoch 87/100\n",
      "1460/1460 [==============================] - 0s 132us/step - loss: 3186948058.7397\n",
      "Epoch 88/100\n",
      "1460/1460 [==============================] - 0s 160us/step - loss: 3181855344.2192\n",
      "Epoch 89/100\n",
      "1460/1460 [==============================] - 0s 129us/step - loss: 3184439631.7808\n",
      "Epoch 90/100\n",
      "1460/1460 [==============================] - 0s 130us/step - loss: 3175585491.7260\n",
      "Epoch 91/100\n",
      "1460/1460 [==============================] - 0s 154us/step - loss: 3193353832.3288\n",
      "Epoch 92/100\n",
      "1460/1460 [==============================] - 0s 171us/step - loss: 3189341589.6986\n",
      "Epoch 93/100\n",
      "1460/1460 [==============================] - 0s 156us/step - loss: 3192228002.6301\n",
      "Epoch 94/100\n",
      "1460/1460 [==============================] - 0s 166us/step - loss: 3184553470.6849\n",
      "Epoch 95/100\n",
      "1460/1460 [==============================] - 0s 169us/step - loss: 3179546032.6575\n",
      "Epoch 96/100\n",
      "1460/1460 [==============================] - 0s 136us/step - loss: 3199865741.3699\n",
      "Epoch 97/100\n",
      "1460/1460 [==============================] - 0s 162us/step - loss: 3193353836.49320s - loss: 2644466\n",
      "Epoch 98/100\n",
      "1460/1460 [==============================] - 0s 107us/step - loss: 3185565211.5068\n",
      "Epoch 99/100\n",
      "1460/1460 [==============================] - 0s 130us/step - loss: 3185649675.1781\n",
      "Epoch 100/100\n",
      "1460/1460 [==============================] - 0s 139us/step - loss: 3186325381.4795\n"
     ]
    },
    {
     "data": {
      "text/plain": [
       "<keras.callbacks.callbacks.History at 0x7f72e4df6e50>"
      ]
     },
     "execution_count": 22,
     "metadata": {},
     "output_type": "execute_result"
    }
   ],
   "source": [
    "model.fit(squareFeet,salePrice, epochs=100, batch_size=10)"
   ]
  },
  {
   "cell_type": "code",
   "execution_count": 23,
   "metadata": {},
   "outputs": [
    {
     "data": {
      "text/plain": [
       "<matplotlib.axes._subplots.AxesSubplot at 0x7f72e4def590>"
      ]
     },
     "execution_count": 23,
     "metadata": {},
     "output_type": "execute_result"
    },
    {
     "data": {
      "image/png": "[encoded data removed]",
      "text/plain": [
       "<Figure size 432x288 with 1 Axes>"
      ]
     },
     "metadata": {
      "needs_background": "light"
     },
     "output_type": "display_data"
    }
   ],
   "source": [
    "df.plot(kind='scatter', x='SquareFeet', y='SalePrice', title='Housing Price Analysis')"
   ]
  },
  {
   "cell_type": "markdown",
   "metadata": {},
   "source": [
    "Lets plot a regression line on our scatter plot to get the view of our linear model"
   ]
  },
  {
   "cell_type": "code",
   "execution_count": 24,
   "metadata": {},
   "outputs": [
    {
     "data": {
      "image/png": "[encoded data removed]",
      "text/plain": [
       "<Figure size 432x288 with 1 Axes>"
      ]
     },
     "metadata": {
      "needs_background": "light"
     },
     "output_type": "display_data"
    }
   ],
   "source": [
    "df.plot(kind='scatter', x='SquareFeet', y='SalePrice', title='Housing Price Analysis')\n",
    "y_pred = model.predict(squareFeet)\n",
    "plt.plot(squareFeet, y_pred, color='red');"
   ]
  },
  {
   "cell_type": "markdown",
   "metadata": {},
   "source": [
    "lets try our model on some new prediction value "
   ]
  },
  {
   "cell_type": "code",
   "execution_count": 25,
   "metadata": {},
   "outputs": [
    {
     "name": "stdout",
     "output_type": "stream",
     "text": [
      "[[239707.28]]\n"
     ]
    }
   ],
   "source": [
    "newpr = 2000\n",
    "print(model.predict([newpr]))"
   ]
  },
  {
   "cell_type": "markdown",
   "metadata": {},
   "source": [
    "So our model predicted that if there is a house with 2000 squarefeet its value must be around 239707.28"
   ]
  }
 ],
 "metadata": {
  "kernelspec": {
   "display_name": "Python 3",
   "language": "python",
   "name": "python3"
  },
  "language_info": {
   "codemirror_mode": {
    "name": "ipython",
    "version": 3
   },
   "file_extension": ".py",
   "mimetype": "text/x-python",
   "name": "python",
   "nbconvert_exporter": "python",
   "pygments_lexer": "ipython3",
   "version": "3.7.6"
  }
 },
 "nbformat": 4,
 "nbformat_minor": 4
}
