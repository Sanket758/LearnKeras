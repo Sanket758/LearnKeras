{
 "cells": [
  {
   "cell_type": "markdown",
   "metadata": {},
   "source": [
    "# Neural Network"
   ]
  },
  {
   "cell_type": "markdown",
   "metadata": {},
   "source": [
    "We are going to use housing prices dataset to predict the housing prices based on multiple features. <br>\n",
    "Unlike linear regression where we deal with only two variable x and y, using neural network we can train our model on multiple feature variables."
   ]
  },
  {
   "cell_type": "markdown",
   "metadata": {},
   "source": [
    "Getting Required Libraries."
   ]
  },
  {
   "cell_type": "code",
   "execution_count": 1,
   "metadata": {},
   "outputs": [
    {
     "name": "stderr",
     "output_type": "stream",
     "text": [
      "Using TensorFlow backend.\n"
     ]
    }
   ],
   "source": [
    "import matplotlib.pyplot as plt\n",
    "import numpy as np\n",
    "import pandas as pd\n",
    "import seaborn as sns\n",
    "import keras"
   ]
  },
  {
   "cell_type": "markdown",
   "metadata": {},
   "source": [
    "# Getting our dataset into a pandas dataframe using read_csv() method."
   ]
  },
  {
   "cell_type": "code",
   "execution_count": 2,
   "metadata": {},
   "outputs": [],
   "source": [
    "data = pd.read_csv('HousingPrices.csv')"
   ]
  },
  {
   "cell_type": "markdown",
   "metadata": {},
   "source": [
    "Using head() we can see the first 5 rows of our dataset, this gives us ann about about our data without going into all the lines."
   ]
  },
  {
   "cell_type": "code",
   "execution_count": 3,
   "metadata": {},
   "outputs": [
    {
     "data": {
      "text/html": [
       "<div>\n",
       "<style scoped>\n",
       "    .dataframe tbody tr th:only-of-type {\n",
       "        vertical-align: middle;\n",
       "    }\n",
       "\n",
       "    .dataframe tbody tr th {\n",
       "        vertical-align: top;\n",
       "    }\n",
       "\n",
       "    .dataframe thead th {\n",
       "        text-align: right;\n",
       "    }\n",
       "</style>\n",
       "<table border=\"1\" class=\"dataframe\">\n",
       "  <thead>\n",
       "    <tr style=\"text-align: right;\">\n",
       "      <th></th>\n",
       "      <th>YearBuilt</th>\n",
       "      <th>2ndFlrSF</th>\n",
       "      <th>GrLivArea</th>\n",
       "      <th>FullBath</th>\n",
       "      <th>HalfBath</th>\n",
       "      <th>BedroomAbvGr</th>\n",
       "      <th>TotRmsAbvGrd</th>\n",
       "      <th>YrSold</th>\n",
       "      <th>SalePrice</th>\n",
       "    </tr>\n",
       "  </thead>\n",
       "  <tbody>\n",
       "    <tr>\n",
       "      <th>0</th>\n",
       "      <td>2003</td>\n",
       "      <td>854</td>\n",
       "      <td>1710</td>\n",
       "      <td>2</td>\n",
       "      <td>1</td>\n",
       "      <td>3</td>\n",
       "      <td>8</td>\n",
       "      <td>2008</td>\n",
       "      <td>208500</td>\n",
       "    </tr>\n",
       "    <tr>\n",
       "      <th>1</th>\n",
       "      <td>1976</td>\n",
       "      <td>0</td>\n",
       "      <td>1262</td>\n",
       "      <td>2</td>\n",
       "      <td>0</td>\n",
       "      <td>3</td>\n",
       "      <td>6</td>\n",
       "      <td>2007</td>\n",
       "      <td>181500</td>\n",
       "    </tr>\n",
       "    <tr>\n",
       "      <th>2</th>\n",
       "      <td>2001</td>\n",
       "      <td>866</td>\n",
       "      <td>1786</td>\n",
       "      <td>2</td>\n",
       "      <td>1</td>\n",
       "      <td>3</td>\n",
       "      <td>6</td>\n",
       "      <td>2008</td>\n",
       "      <td>223500</td>\n",
       "    </tr>\n",
       "    <tr>\n",
       "      <th>3</th>\n",
       "      <td>1915</td>\n",
       "      <td>756</td>\n",
       "      <td>1717</td>\n",
       "      <td>1</td>\n",
       "      <td>0</td>\n",
       "      <td>3</td>\n",
       "      <td>7</td>\n",
       "      <td>2006</td>\n",
       "      <td>140000</td>\n",
       "    </tr>\n",
       "    <tr>\n",
       "      <th>4</th>\n",
       "      <td>2000</td>\n",
       "      <td>1053</td>\n",
       "      <td>2198</td>\n",
       "      <td>2</td>\n",
       "      <td>1</td>\n",
       "      <td>4</td>\n",
       "      <td>9</td>\n",
       "      <td>2008</td>\n",
       "      <td>250000</td>\n",
       "    </tr>\n",
       "  </tbody>\n",
       "</table>\n",
       "</div>"
      ],
      "text/plain": [
       "   YearBuilt  2ndFlrSF  GrLivArea  FullBath  HalfBath  BedroomAbvGr  \\\n",
       "0       2003       854       1710         2         1             3   \n",
       "1       1976         0       1262         2         0             3   \n",
       "2       2001       866       1786         2         1             3   \n",
       "3       1915       756       1717         1         0             3   \n",
       "4       2000      1053       2198         2         1             4   \n",
       "\n",
       "   TotRmsAbvGrd  YrSold  SalePrice  \n",
       "0             8    2008     208500  \n",
       "1             6    2007     181500  \n",
       "2             6    2008     223500  \n",
       "3             7    2006     140000  \n",
       "4             9    2008     250000  "
      ]
     },
     "execution_count": 3,
     "metadata": {},
     "output_type": "execute_result"
    }
   ],
   "source": [
    "data.head()"
   ]
  },
  {
   "cell_type": "markdown",
   "metadata": {},
   "source": [
    "# Getting our variables for training.<br>\n",
    "x will contain all the values in a row except for SalePrice, and our model is going to be trained on these values <br>\n",
    "y will only contain SalePrice, which we are gonna predict"
   ]
  },
  {
   "cell_type": "code",
   "execution_count": 4,
   "metadata": {},
   "outputs": [],
   "source": [
    "x = data.drop(columns=['SalePrice'])"
   ]
  },
  {
   "cell_type": "code",
   "execution_count": 5,
   "metadata": {},
   "outputs": [],
   "source": [
    "y = data.SalePrice"
   ]
  },
  {
   "cell_type": "markdown",
   "metadata": {},
   "source": [
    "# Model Building\n"
   ]
  },
  {
   "cell_type": "code",
   "execution_count": 6,
   "metadata": {},
   "outputs": [],
   "source": [
    "model = keras.Sequential() # Created a sequential model object\n",
    "model.add(keras.layers.Dense(8, activation='relu', input_shape=(8,))) #our first layer is an input layer\n",
    "model.add(keras.layers.Dense(8,activation='relu')) #Hidden layer\n",
    "model.add(keras.layers.Dense(1)) # output layer"
   ]
  },
  {
   "cell_type": "markdown",
   "metadata": {},
   "source": [
    "Description of layers:<br>\n",
    "1st layer contains 8 neurons, i have taken 8 neurons because in dataset i have 8 features to train on, but you can choose any number if you want. I have used RELU as an activation function because it is mostly used, input shape is shape of our dataset, we have 8 columns here.<br>\n",
    "2nd layes is hiddel layer, it is an addition layer. You can have as many hidden layers as you want.<br>\n",
    "3rd layer is our output layer, here we are gonna predict only SalePrice thats why 1 is given in argument.\n"
   ]
  },
  {
   "cell_type": "markdown",
   "metadata": {},
   "source": [
    "# Now we will need to Compile our model."
   ]
  },
  {
   "cell_type": "markdown",
   "metadata": {},
   "source": [
    "i have used adam optimizer but there are other optimizers too.<br>\n",
    "loss is nothing but the error our model while predicting some output."
   ]
  },
  {
   "cell_type": "code",
   "execution_count": 7,
   "metadata": {},
   "outputs": [],
   "source": [
    "model.compile(optimizer='adam', loss='mean_squared_error')"
   ]
  },
  {
   "cell_type": "markdown",
   "metadata": {},
   "source": [
    "## Finally Fit() our model.<br>\n",
    "Callbacks are used to avoid overfitting. <br>\n",
    "using early stopping, we can stop the model training when it is showing same loss between the epochs. This saves memory and time to train."
   ]
  },
  {
   "cell_type": "code",
   "execution_count": 8,
   "metadata": {
    "scrolled": true
   },
   "outputs": [
    {
     "name": "stdout",
     "output_type": "stream",
     "text": [
      "Epoch 1/50\n",
      "1460/1460 [==============================] - 1s 681us/step - loss: 39043831179.5726\n",
      "Epoch 2/50\n",
      "1460/1460 [==============================] - 0s 126us/step - loss: 38599885944.6356\n",
      "Epoch 3/50\n"
     ]
    },
    {
     "name": "stderr",
     "output_type": "stream",
     "text": [
      "/home/sanket/anaconda3/lib/python3.7/site-packages/keras/callbacks/callbacks.py:846: RuntimeWarning: Early stopping conditioned on metric `val_loss` which is not available. Available metrics are: loss\n",
      "  (self.monitor, ','.join(list(logs.keys()))), RuntimeWarning\n"
     ]
    },
    {
     "name": "stdout",
     "output_type": "stream",
     "text": [
      "1460/1460 [==============================] - 0s 152us/step - loss: 37867991118.5534\n",
      "Epoch 4/50\n",
      "1460/1460 [==============================] - 0s 310us/step - loss: 36780659776.5260\n",
      "Epoch 5/50\n",
      "1460/1460 [==============================] - 0s 170us/step - loss: 35217906180.2082\n",
      "Epoch 6/50\n",
      "1460/1460 [==============================] - 0s 123us/step - loss: 33087535541.6548\n",
      "Epoch 7/50\n",
      "1460/1460 [==============================] - 0s 130us/step - loss: 30362277169.7973\n",
      "Epoch 8/50\n",
      "1460/1460 [==============================] - 0s 119us/step - loss: 27093241367.8466 0s - loss: 27652795549.53\n",
      "Epoch 9/50\n",
      "1460/1460 [==============================] - 0s 76us/step - loss: 23409548481.5781\n",
      "Epoch 10/50\n",
      "1460/1460 [==============================] - 0s 175us/step - loss: 19531553340.3178\n",
      "Epoch 11/50\n",
      "1460/1460 [==============================] - 0s 176us/step - loss: 15721433550.9041\n",
      "Epoch 12/50\n",
      "1460/1460 [==============================] - 0s 175us/step - loss: 12237211642.3890\n",
      "Epoch 13/50\n",
      "1460/1460 [==============================] - 0s 338us/step - loss: 9355363482.3014\n",
      "Epoch 14/50\n",
      "1460/1460 [==============================] - 0s 250us/step - loss: 7185637169.7973\n",
      "Epoch 15/50\n",
      "1460/1460 [==============================] - 0s 117us/step - loss: 5760969981.8959\n",
      "Epoch 16/50\n",
      "1460/1460 [==============================] - 0s 193us/step - loss: 4955090220.1863\n",
      "Epoch 17/50\n",
      "1460/1460 [==============================] - 0s 167us/step - loss: 4573930330.8274\n",
      "Epoch 18/50\n",
      "1460/1460 [==============================] - 0s 220us/step - loss: 4411780678.1370\n",
      "Epoch 19/50\n",
      "1460/1460 [==============================] - 0s 228us/step - loss: 4349508225.0521\n",
      "Epoch 20/50\n",
      "1460/1460 [==============================] - 0s 201us/step - loss: 4325198373.8740\n",
      "Epoch 21/50\n",
      "1460/1460 [==============================] - 0s 170us/step - loss: 4312671798.0055\n",
      "Epoch 22/50\n",
      "1460/1460 [==============================] - 0s 204us/step - loss: 4304374413.3260\n",
      "Epoch 23/50\n",
      "1460/1460 [==============================] - 0s 107us/step - loss: 4296050035.7260\n",
      "Epoch 24/50\n",
      "1460/1460 [==============================] - 0s 144us/step - loss: 4288214636.0110\n",
      "Epoch 25/50\n",
      "1460/1460 [==============================] - 0s 147us/step - loss: 4279521139.7260\n",
      "Epoch 26/50\n",
      "1460/1460 [==============================] - 0s 216us/step - loss: 4270503222.7068\n",
      "Epoch 27/50\n",
      "1460/1460 [==============================] - 0s 155us/step - loss: 4264161061.5233\n",
      "Epoch 28/50\n",
      "1460/1460 [==============================] - 0s 181us/step - loss: 4253325483.1342\n",
      "Epoch 29/50\n",
      "1460/1460 [==============================] - 0s 172us/step - loss: 4245146007.4959\n",
      "Epoch 30/50\n",
      "1460/1460 [==============================] - 0s 154us/step - loss: 4235187118.6411\n",
      "Epoch 31/50\n",
      "1460/1460 [==============================] - 0s 210us/step - loss: 4226260597.8301\n",
      "Epoch 32/50\n",
      "1460/1460 [==============================] - 0s 193us/step - loss: 4216209193.3808\n",
      "Epoch 33/50\n",
      "1460/1460 [==============================] - 0s 220us/step - loss: 4207332817.7096\n",
      "Epoch 34/50\n",
      "1460/1460 [==============================] - 0s 140us/step - loss: 4198185141.6548\n",
      "Epoch 35/50\n",
      "1460/1460 [==============================] - 0s 202us/step - loss: 4190510899.9014\n",
      "Epoch 36/50\n",
      "1460/1460 [==============================] - 0s 270us/step - loss: 4177471129.2493\n",
      "Epoch 37/50\n",
      "1460/1460 [==============================] - 0s 185us/step - loss: 4167696716.4493\n",
      "Epoch 38/50\n",
      "1460/1460 [==============================] - 0s 133us/step - loss: 4158117106.6740\n",
      "Epoch 39/50\n",
      "1460/1460 [==============================] - 0s 188us/step - loss: 4147853017.4247\n",
      "Epoch 40/50\n",
      "1460/1460 [==============================] - 0s 262us/step - loss: 4137056140.9753\n",
      "Epoch 41/50\n",
      "1460/1460 [==============================] - 0s 182us/step - loss: 4126241284.9096\n",
      "Epoch 42/50\n",
      "1460/1460 [==============================] - 0s 214us/step - loss: 4115447444.6904\n",
      "Epoch 43/50\n",
      "1460/1460 [==============================] - 0s 241us/step - loss: 4102225102.2027\n",
      "Epoch 44/50\n",
      "1460/1460 [==============================] - 0s 248us/step - loss: 4092750244.8219\n",
      "Epoch 45/50\n",
      "1460/1460 [==============================] - 0s 143us/step - loss: 4083036667.0904\n",
      "Epoch 46/50\n",
      "1460/1460 [==============================] - 0s 132us/step - loss: 4068971944.3288\n",
      "Epoch 47/50\n",
      "1460/1460 [==============================] - 0s 159us/step - loss: 4059052022.1808\n",
      "Epoch 48/50\n",
      "1460/1460 [==============================] - 0s 148us/step - loss: 4045881520.7452\n",
      "Epoch 49/50\n",
      "1460/1460 [==============================] - 0s 274us/step - loss: 4037419181.2384\n",
      "Epoch 50/50\n",
      "1460/1460 [==============================] - 0s 176us/step - loss: 4021985554.2356\n"
     ]
    },
    {
     "data": {
      "text/plain": [
       "<keras.callbacks.callbacks.History at 0x7f63d071e890>"
      ]
     },
     "execution_count": 8,
     "metadata": {},
     "output_type": "execute_result"
    }
   ],
   "source": [
    "model.fit(x,y,epochs=50, callbacks=[keras.callbacks.EarlyStopping(patience=5)])"
   ]
  },
  {
   "cell_type": "markdown",
   "metadata": {},
   "source": [
    "# Testing our Model"
   ]
  },
  {
   "cell_type": "markdown",
   "metadata": {},
   "source": [
    "So lets pass some values to the predict method of our model.<br>\n",
    "Basically, here i have copied all the values from 1st collumn of the dataset, and used predict method using those values."
   ]
  },
  {
   "cell_type": "code",
   "execution_count": 9,
   "metadata": {},
   "outputs": [
    {
     "data": {
      "text/html": [
       "<div>\n",
       "<style scoped>\n",
       "    .dataframe tbody tr th:only-of-type {\n",
       "        vertical-align: middle;\n",
       "    }\n",
       "\n",
       "    .dataframe tbody tr th {\n",
       "        vertical-align: top;\n",
       "    }\n",
       "\n",
       "    .dataframe thead th {\n",
       "        text-align: right;\n",
       "    }\n",
       "</style>\n",
       "<table border=\"1\" class=\"dataframe\">\n",
       "  <thead>\n",
       "    <tr style=\"text-align: right;\">\n",
       "      <th></th>\n",
       "      <th>YearBuilt</th>\n",
       "      <th>2ndFlrSF</th>\n",
       "      <th>GrLivArea</th>\n",
       "      <th>FullBath</th>\n",
       "      <th>HalfBath</th>\n",
       "      <th>BedroomAbvGr</th>\n",
       "      <th>TotRmsAbvGrd</th>\n",
       "      <th>YrSold</th>\n",
       "      <th>SalePrice</th>\n",
       "    </tr>\n",
       "  </thead>\n",
       "  <tbody>\n",
       "    <tr>\n",
       "      <th>40</th>\n",
       "      <td>1965</td>\n",
       "      <td>0</td>\n",
       "      <td>1324</td>\n",
       "      <td>2</td>\n",
       "      <td>0</td>\n",
       "      <td>3</td>\n",
       "      <td>6</td>\n",
       "      <td>2006</td>\n",
       "      <td>160000</td>\n",
       "    </tr>\n",
       "  </tbody>\n",
       "</table>\n",
       "</div>"
      ],
      "text/plain": [
       "    YearBuilt  2ndFlrSF  GrLivArea  FullBath  HalfBath  BedroomAbvGr  \\\n",
       "40       1965         0       1324         2         0             3   \n",
       "\n",
       "    TotRmsAbvGrd  YrSold  SalePrice  \n",
       "40             6    2006     160000  "
      ]
     },
     "execution_count": 9,
     "metadata": {},
     "output_type": "execute_result"
    }
   ],
   "source": [
    "data[40:41]"
   ]
  },
  {
   "cell_type": "code",
   "execution_count": 10,
   "metadata": {
    "scrolled": false
   },
   "outputs": [
    {
     "name": "stdout",
     "output_type": "stream",
     "text": [
      "[[166042.19]]\n"
     ]
    }
   ],
   "source": [
    "test_data = np.array([1965,0,1324,2,0,3,6,2006]) # Passing some values to predict\n",
    "print(model.predict(test_data.reshape(1,8), batch_size=1))  #we need to reshape to arrange all the data in one row"
   ]
  },
  {
   "cell_type": "markdown",
   "metadata": {},
   "source": [
    "Our model has predicted that SalePrice is near to 166042, when actually it is 160000. So its not accurate but pretty close actually"
   ]
  },
  {
   "cell_type": "markdown",
   "metadata": {},
   "source": [
    "# Saving the model for later use"
   ]
  },
  {
   "cell_type": "code",
   "execution_count": 11,
   "metadata": {},
   "outputs": [],
   "source": [
    "model.save('housing_model.h5')"
   ]
  },
  {
   "cell_type": "markdown",
   "metadata": {},
   "source": [
    "# Loading Previously saved model"
   ]
  },
  {
   "cell_type": "code",
   "execution_count": 13,
   "metadata": {},
   "outputs": [],
   "source": [
    "old_model = keras.models.load_model('housing_model.h5')"
   ]
  },
  {
   "cell_type": "code",
   "execution_count": 14,
   "metadata": {},
   "outputs": [
    {
     "data": {
      "text/plain": [
       "array([[166042.19]], dtype=float32)"
      ]
     },
     "execution_count": 14,
     "metadata": {},
     "output_type": "execute_result"
    }
   ],
   "source": [
    "old_model.predict(test_data.reshape(1,8))"
   ]
  }
 ],
 "metadata": {
  "kernelspec": {
   "display_name": "Python 3",
   "language": "python",
   "name": "python3"
  },
  "language_info": {
   "codemirror_mode": {
    "name": "ipython",
    "version": 3
   },
   "file_extension": ".py",
   "mimetype": "text/x-python",
   "name": "python",
   "nbconvert_exporter": "python",
   "pygments_lexer": "ipython3",
   "version": "3.7.6"
  }
 },
 "nbformat": 4,
 "nbformat_minor": 4
}
